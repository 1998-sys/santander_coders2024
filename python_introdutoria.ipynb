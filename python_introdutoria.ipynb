{
 "cells": [
  {
   "cell_type": "markdown",
   "metadata": {},
   "source": [
    "## Python Noções introdutórias"
   ]
  },
  {
   "cell_type": "code",
   "execution_count": 1,
   "metadata": {},
   "outputs": [
    {
     "name": "stdout",
     "output_type": "stream",
     "text": [
      "hello world !\n"
     ]
    }
   ],
   "source": [
    "# Variáveis \n",
    "print('hello world !')\n"
   ]
  },
  {
   "cell_type": "code",
   "execution_count": 2,
   "metadata": {},
   "outputs": [
    {
     "data": {
      "text/plain": [
       "'\\nComentário de várias linhas \\n'"
      ]
     },
     "execution_count": 2,
     "metadata": {},
     "output_type": "execute_result"
    }
   ],
   "source": [
    "# Comentário\n",
    "\n",
    "\"\"\"\n",
    "Comentário de várias linhas \n",
    "\"\"\""
   ]
  },
  {
   "cell_type": "code",
   "execution_count": 7,
   "metadata": {},
   "outputs": [
    {
     "name": "stdout",
     "output_type": "stream",
     "text": [
      "A variável idade recebeu o valor 26 e nome recebeu Matheus Bandeira\n"
     ]
    }
   ],
   "source": [
    "idade = 26 # Criando uma variável e atribuindo um valor a mesma \n",
    "nome = 'Matheus Bandeira'\n",
    "print(f'A variável idade recebeu o valor {idade} e nome recebeu {nome}')"
   ]
  },
  {
   "cell_type": "code",
   "execution_count": 12,
   "metadata": {},
   "outputs": [
    {
     "name": "stdout",
     "output_type": "stream",
     "text": [
      "<class 'int'>\n",
      "<class 'float'>\n",
      "<class 'str'>\n",
      "<class 'bool'>\n"
     ]
    }
   ],
   "source": [
    "\"\"\"\n",
    "Tipos de Variáveis\n",
    "\n",
    "1. int : números inteiros, ou seja, números sem parte decimal: 0,5,-1,1000\n",
    "2. float: números reais, ou seja, números com parte decimal: 1.0,-2.7,3.14\n",
    "3. str: cadeias de caracteres, ou seja, dados textuais\n",
    "4. bool: valores lógicos (booleanos): True ou False\n",
    "\"\"\"\n",
    "\n",
    "idade = 26 # int\n",
    "altura = 1.83 # Float\n",
    "nome = 'Matheus' # String\n",
    "estudando = True #bool\n",
    "\n",
    "print(type(idade)) #Mostrando o tipo da variável\n",
    "print(type(altura)) \n",
    "print(type(nome))\n",
    "print(type(estudando))"
   ]
  },
  {
   "cell_type": "code",
   "execution_count": 14,
   "metadata": {},
   "outputs": [
    {
     "name": "stdout",
     "output_type": "stream",
     "text": [
      "A linguagem que está sendo estudada é Python\n"
     ]
    }
   ],
   "source": [
    "# Input\n",
    "linguagem = input('Qual é a linguaem de programação que você está estudando ?')\n",
    "print(f'A linguagem que está sendo estudada é {linguagem}')"
   ]
  },
  {
   "cell_type": "code",
   "execution_count": null,
   "metadata": {},
   "outputs": [],
   "source": []
  }
 ],
 "metadata": {
  "kernelspec": {
   "display_name": "base",
   "language": "python",
   "name": "python3"
  },
  "language_info": {
   "codemirror_mode": {
    "name": "ipython",
    "version": 3
   },
   "file_extension": ".py",
   "mimetype": "text/x-python",
   "name": "python",
   "nbconvert_exporter": "python",
   "pygments_lexer": "ipython3",
   "version": "3.11.4"
  }
 },
 "nbformat": 4,
 "nbformat_minor": 2
}
