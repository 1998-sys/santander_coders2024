{
 "cells": [
  {
   "cell_type": "markdown",
   "metadata": {},
   "source": [
    "## Python Noções introdutórias"
   ]
  },
  {
   "cell_type": "code",
   "execution_count": 1,
   "metadata": {},
   "outputs": [
    {
     "name": "stdout",
     "output_type": "stream",
     "text": [
      "hello world !\n"
     ]
    }
   ],
   "source": [
    "# Variáveis \n",
    "print('hello world !')\n"
   ]
  },
  {
   "cell_type": "code",
   "execution_count": 2,
   "metadata": {},
   "outputs": [
    {
     "data": {
      "text/plain": [
       "'\\nComentário de várias linhas \\n'"
      ]
     },
     "execution_count": 2,
     "metadata": {},
     "output_type": "execute_result"
    }
   ],
   "source": [
    "# Comentário\n",
    "\n",
    "\"\"\"\n",
    "Comentário de várias linhas \n",
    "\"\"\""
   ]
  },
  {
   "cell_type": "code",
   "execution_count": 7,
   "metadata": {},
   "outputs": [
    {
     "name": "stdout",
     "output_type": "stream",
     "text": [
      "A variável idade recebeu o valor 26 e nome recebeu Matheus Bandeira\n"
     ]
    }
   ],
   "source": [
    "idade = 26 # Criando uma variável e atribuindo um valor a mesma \n",
    "nome = 'Matheus Bandeira'\n",
    "print(f'A variável idade recebeu o valor {idade} e nome recebeu {nome}')"
   ]
  },
  {
   "cell_type": "code",
   "execution_count": 12,
   "metadata": {},
   "outputs": [
    {
     "name": "stdout",
     "output_type": "stream",
     "text": [
      "<class 'int'>\n",
      "<class 'float'>\n",
      "<class 'str'>\n",
      "<class 'bool'>\n"
     ]
    }
   ],
   "source": [
    "\"\"\"\n",
    "Tipos de Variáveis\n",
    "\n",
    "1. int : números inteiros, ou seja, números sem parte decimal: 0,5,-1,1000\n",
    "2. float: números reais, ou seja, números com parte decimal: 1.0,-2.7,3.14\n",
    "3. str: cadeias de caracteres, ou seja, dados textuais\n",
    "4. bool: valores lógicos (booleanos): True ou False\n",
    "\"\"\"\n",
    "\n",
    "idade = 26 # int\n",
    "altura = 1.83 # Float\n",
    "nome = 'Matheus' # String\n",
    "estudando = True #bool\n",
    "\n",
    "print(type(idade)) #Mostrando o tipo da variável\n",
    "print(type(altura)) \n",
    "print(type(nome))\n",
    "print(type(estudando))"
   ]
  },
  {
   "cell_type": "code",
   "execution_count": 14,
   "metadata": {},
   "outputs": [
    {
     "name": "stdout",
     "output_type": "stream",
     "text": [
      "A linguagem que está sendo estudada é Python\n"
     ]
    }
   ],
   "source": [
    "# Input\n",
    "linguagem = input('Qual é a linguaem de programação que você está estudando ?')\n",
    "print(f'A linguagem que está sendo estudada é {linguagem}')"
   ]
  },
  {
   "cell_type": "markdown",
   "metadata": {},
   "source": [
    "## Operadores Aritméticos e Booleanos"
   ]
  },
  {
   "cell_type": "code",
   "execution_count": 16,
   "metadata": {},
   "outputs": [
    {
     "name": "stdout",
     "output_type": "stream",
     "text": [
      "\n",
      "\n"
     ]
    }
   ],
   "source": [
    "# > Operações Matemáticas (Aritméticas)\n",
    "\n",
    "\"\"\"\n",
    "- soma: +\n",
    "- Multiplicação: *\n",
    "- Divisão: /\n",
    "- Divisão Inteira: //\n",
    "- Resto da Divisão: %\n",
    "- Potência: **\n",
    "\"\"\"\n",
    "print('\\n')"
   ]
  },
  {
   "cell_type": "code",
   "execution_count": 44,
   "metadata": {},
   "outputs": [],
   "source": [
    "from auxiliar import valor_numerico #iportando a função do arquivo de funções auxiliares\n",
    "\n",
    "numero1 = valor_numerico('Insira o 1° valor')\n",
    "numero2 = valor_numerico('Insira o 2° valor')\n"
   ]
  },
  {
   "cell_type": "code",
   "execution_count": 53,
   "metadata": {},
   "outputs": [
    {
     "name": "stdout",
     "output_type": "stream",
     "text": [
      "Os numeros inseridos foram: 5.0 e 3.0\n",
      "A soma é 8.0\n",
      "A multiplicação é 15.0\n",
      "A divisão é 1.6666666666666667\n",
      "A divisão inteiro é 1.0\n",
      "O resto da divisão é 2.0\n",
      "a potenciação é 125.0\n"
     ]
    }
   ],
   "source": [
    "# Soma\n",
    "soma = numero1 + numero2\n",
    "multi = numero1 * numero2\n",
    "divi = numero1/numero2\n",
    "diviint = numero1//numero2\n",
    "resto = numero1 % numero2\n",
    "pot = numero1 ** numero2\n",
    "\n",
    "# Resultado das operações\n",
    "print(f'Os numeros inseridos foram: {numero1} e {numero2}\\nA soma é {soma}\\nA multiplicação é {multi}\\nA divisão é {divi}\\n'\n",
    "      f'A divisão inteiro é {diviint}\\nO resto da divisão é {resto}\\na potenciação é {pot}')"
   ]
  },
  {
   "cell_type": "code",
   "execution_count": 58,
   "metadata": {},
   "outputs": [
    {
     "name": "stdout",
     "output_type": "stream",
     "text": [
      "False\n",
      "True\n",
      "False\n",
      "True\n",
      "True\n",
      "True\n"
     ]
    }
   ],
   "source": [
    "## Operadores Booleanos (Retornará somente Falso ou Verdadeiro)\n",
    "idade1 = 10\n",
    "idade2 = 15\n",
    "altura1 = 1.77\n",
    "altura2 = 1.65\n",
    "altura3 = altura2\n",
    "\n",
    "print(idade1 > idade2)\n",
    "print(idade1 <= idade2)\n",
    "print('Python' == 'python')\n",
    "print('banana' != 'abacaxi')\n",
    "print(altura1 >= altura2)\n",
    "print(altura2 >= altura3)"
   ]
  },
  {
   "cell_type": "code",
   "execution_count": 70,
   "metadata": {},
   "outputs": [
    {
     "name": "stdout",
     "output_type": "stream",
     "text": [
      "26 <class 'str'>\n",
      "26 <class 'int'>\n",
      "2.5 <class 'float'>\n"
     ]
    }
   ],
   "source": [
    "# Conversão de Tipos (converter tipo de variáveis)\n",
    "idade = '26'\n",
    "print(idade, type(idade))\n",
    "idade_inteira = int(idade)\n",
    "print(idade_inteira, type(idade_inteira))\n",
    "\n",
    "# int() -> converte para inteiro\n",
    "# str() -> covnerte para string\n",
    "# float() -> converte para float\n",
    "# boll() -> converte para booleano\n",
    "\n",
    "# Comando input sempre tará o resultado em str\n",
    "altura = float(input('informe sua altura: ')) \n",
    "print(altura, type(altura))\n",
    "\n"
   ]
  }
 ],
 "metadata": {
  "kernelspec": {
   "display_name": "base",
   "language": "python",
   "name": "python3"
  },
  "language_info": {
   "codemirror_mode": {
    "name": "ipython",
    "version": 3
   },
   "file_extension": ".py",
   "mimetype": "text/x-python",
   "name": "python",
   "nbconvert_exporter": "python",
   "pygments_lexer": "ipython3",
   "version": "3.11.4"
  }
 },
 "nbformat": 4,
 "nbformat_minor": 2
}
