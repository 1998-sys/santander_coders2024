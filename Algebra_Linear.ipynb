{
 "cells": [
  {
   "cell_type": "markdown",
   "metadata": {},
   "source": [
    "## Álgebra linear\n",
    "\n",
    "A álgebra linear é um ramo da matemática que estuda os coneceitos e a propriedades de estruturas abstratas chamadas espaços vetoriais, matrizes, transformações lineares, sistemas de equações lineares e determinantes. A álgebra linear tem aplicações em diversas áreas do conhecimento, como física, computação, engenharia, economia e ciência de dados. A álgebra linear também fornece ferramentas para o estudo de geometria analítica, análise funcional, equação diferenciais e otimização."
   ]
  },
  {
   "cell_type": "markdown",
   "metadata": {},
   "source": [
    "<img src=\"https://github.com/1998-sys/santander_coders2024/raw/79da18a7953620b131d098537dd825c66346f71e/LimeWire%20AI%20Studio%20Asset.jpg\" alt=\"Imagem\">"
   ]
  },
  {
   "cell_type": "code",
   "execution_count": 1,
   "metadata": {},
   "outputs": [],
   "source": [
    "matriz_a = [[1,2,3],[4,5,6]]"
   ]
  },
  {
   "cell_type": "code",
   "execution_count": 2,
   "metadata": {},
   "outputs": [
    {
     "data": {
      "text/plain": [
       "[[1, 2, 3], [4, 5, 6]]"
      ]
     },
     "execution_count": 2,
     "metadata": {},
     "output_type": "execute_result"
    }
   ],
   "source": [
    "matriz_a"
   ]
  },
  {
   "cell_type": "code",
   "execution_count": 3,
   "metadata": {},
   "outputs": [
    {
     "data": {
      "text/plain": [
       "[1, 2, 3]"
      ]
     },
     "execution_count": 3,
     "metadata": {},
     "output_type": "execute_result"
    }
   ],
   "source": [
    "matriz_a[0] # Acessando a primeira linha "
   ]
  },
  {
   "cell_type": "code",
   "execution_count": 4,
   "metadata": {},
   "outputs": [
    {
     "data": {
      "text/plain": [
       "[4, 5, 6]"
      ]
     },
     "execution_count": 4,
     "metadata": {},
     "output_type": "execute_result"
    }
   ],
   "source": [
    "matriz_a[1] # Acessando a segunda linha \n"
   ]
  },
  {
   "cell_type": "code",
   "execution_count": 5,
   "metadata": {},
   "outputs": [
    {
     "data": {
      "text/plain": [
       "2"
      ]
     },
     "execution_count": 5,
     "metadata": {},
     "output_type": "execute_result"
    }
   ],
   "source": [
    "matriz_a[0][1] #elemento da primeira linha e segunda coluna"
   ]
  },
  {
   "cell_type": "markdown",
   "metadata": {},
   "source": [
    "Usar listas aninhadas como matriz funciona para tarefas computacionais simples, no entanto, exite uma maneira melhor de trabalhar com matrizes em python usando o pacote Numpy\n",
    "\n",
    "### Numpy Array: Numpy\n",
    "Numpy é um pacote para computação científica que fornece uma ampla gama de  funções e métodos para trabalhar com matrizes multidimensionais"
   ]
  },
  {
   "cell_type": "code",
   "execution_count": 6,
   "metadata": {},
   "outputs": [
    {
     "data": {
      "text/plain": [
       "array([[1, 2, 3],\n",
       "       [4, 5, 6],\n",
       "       [7, 8, 9]])"
      ]
     },
     "execution_count": 6,
     "metadata": {},
     "output_type": "execute_result"
    }
   ],
   "source": [
    "import numpy as np \n",
    "\n",
    "matriz_b = np.array([[1,2,3], [4,5,6], [7,8,9]])\n",
    "\n",
    "matriz_b"
   ]
  },
  {
   "cell_type": "code",
   "execution_count": 7,
   "metadata": {},
   "outputs": [
    {
     "data": {
      "text/plain": [
       "3"
      ]
     },
     "execution_count": 7,
     "metadata": {},
     "output_type": "execute_result"
    }
   ],
   "source": [
    "# Acessando a matriz \n",
    "matriz_b[0][2] # Acessando primeira linha 3° coluna"
   ]
  },
  {
   "cell_type": "markdown",
   "metadata": {},
   "source": [
    "Algumas operações que podemos realizar em matrizes usando o Numpy \n",
    "\n",
    "- Transposiçaõ de matriz\n",
    "\n",
    "A transposição de uma matriz é uma operação que troca as linhas e colunas da matriz. Por exemplo, se tivermos uma matriz A com a dimensão m x n, a transposta de A é uma matriz B com dimensão nxm, onde o elemento na linha i e colna j de B é o elemento na linha j e coluna i de A"
   ]
  },
  {
   "cell_type": "code",
   "execution_count": 8,
   "metadata": {},
   "outputs": [
    {
     "data": {
      "text/plain": [
       "array([[1, 4, 7],\n",
       "       [2, 5, 8],\n",
       "       [3, 6, 9]])"
      ]
     },
     "execution_count": 8,
     "metadata": {},
     "output_type": "execute_result"
    }
   ],
   "source": [
    "matriz_b.transpose()"
   ]
  },
  {
   "cell_type": "markdown",
   "metadata": {},
   "source": [
    "- Adição de matrizes\n",
    "\n",
    "A adição e subtração de matrizes são realizadas elemento por elemento. Para que duas matrizes possam ser adicionadas ou subtraídas, elas devem ter a mesma dimensão. Por exemplo, se tivermos duas matrizes A e B, ambas com dimensão mxn, a soma de A e B é uma matriz C, onde cada elemento de C é a soma dos elementos correspondentes de A e B"
   ]
  },
  {
   "cell_type": "code",
   "execution_count": 9,
   "metadata": {},
   "outputs": [
    {
     "name": "stdout",
     "output_type": "stream",
     "text": [
      "[[10 10 10]\n",
      " [10 10 10]\n",
      " [10 10 10]]\n"
     ]
    }
   ],
   "source": [
    "matriz_1 = np.array([[1,2,3],[4,5,6],[7,8,9]])\n",
    "matriz_2 = np.array([[9,8,7],[6,5,4],[3,2,1]])\n",
    "\n",
    "soma = matriz_1 + matriz_2\n",
    "print(soma)"
   ]
  },
  {
   "cell_type": "markdown",
   "metadata": {},
   "source": [
    "- Subtração de Matrizes"
   ]
  },
  {
   "cell_type": "code",
   "execution_count": 10,
   "metadata": {},
   "outputs": [
    {
     "data": {
      "text/plain": [
       "array([[-8, -6, -4],\n",
       "       [-2,  0,  2],\n",
       "       [ 4,  6,  8]])"
      ]
     },
     "execution_count": 10,
     "metadata": {},
     "output_type": "execute_result"
    }
   ],
   "source": [
    "subtração = matriz_1 - matriz_2\n",
    "subtração"
   ]
  },
  {
   "cell_type": "markdown",
   "metadata": {},
   "source": [
    "- Multiplicação de Matrizes\n",
    "\n",
    "A multiplicação de matrizes é um pouco mais complexa. A multiplicação de duas matrizes A e B é definida apenas se o número de colunas de A for igual ao número de linhas de B. O resultado da multiplicação é uma matriz C, onde o elemento na linha i e coluna j é o produto escalar da linha i de A e da coluna j de B\n",
    "\n",
    "O número de colunas da primeira matriz deve ser igual ao número de linhas da segunda matriz \n"
   ]
  },
  {
   "cell_type": "code",
   "execution_count": 11,
   "metadata": {},
   "outputs": [
    {
     "name": "stdout",
     "output_type": "stream",
     "text": [
      "[[1 2]\n",
      " [3 4]\n",
      " [5 6]]\n",
      "[[7]\n",
      " [8]]\n"
     ]
    },
    {
     "data": {
      "text/plain": [
       "array([[23],\n",
       "       [53],\n",
       "       [83]])"
      ]
     },
     "execution_count": 11,
     "metadata": {},
     "output_type": "execute_result"
    }
   ],
   "source": [
    "matriz3 = np.array([[1,2], [3,4], [5,6]])\n",
    "matriz4 = np.array([[7], [8]])\n",
    "\n",
    "print(matriz3)\n",
    "print(matriz4)\n",
    "\n",
    "matrizmult = np.dot(matriz3, matriz4) #Comando para realizar multiplicação de matrizes\n",
    "matrizmult"
   ]
  },
  {
   "cell_type": "markdown",
   "metadata": {},
   "source": [
    "- Divisão de matrizes\n",
    "\n",
    "Tecnicamente, a divisão de matrizes não existe. Em vez disso, é necessário multiplicar uma matriz pelo inverso da outra. Por exemplo, se tibermos duas matrizes A e B, a divisão de A por B seria escrita como A*B^-1. Para calcular a divisão de matrizes, a matriz b deve ser quadrada e seu determinante deve ser diferente de zero. Caso contráriom a divisão não é possível.\n"
   ]
  },
  {
   "cell_type": "markdown",
   "metadata": {},
   "source": [
    "## Matriz Transposta\n",
    "\n",
    "A matriz trasposta é uma matriz que se obtém ao trocar as linhas pelas colunas de uma matriz. A representação matemática da matriz transposta de uma matriz A é:\n",
    "$$ A^\\top $$\n"
   ]
  },
  {
   "cell_type": "code",
   "execution_count": 15,
   "metadata": {},
   "outputs": [
    {
     "name": "stdout",
     "output_type": "stream",
     "text": [
      "[[1 2 3]\n",
      " [4 5 6]\n",
      " [7 8 9]]\n"
     ]
    }
   ],
   "source": [
    "a = np.array([[1,2,3],[4,5,6],[7,8,9]])\n",
    "print(a)"
   ]
  },
  {
   "cell_type": "code",
   "execution_count": 18,
   "metadata": {},
   "outputs": [
    {
     "name": "stdout",
     "output_type": "stream",
     "text": [
      "[[1 4 7]\n",
      " [2 5 8]\n",
      " [3 6 9]]\n"
     ]
    }
   ],
   "source": [
    "# Matriz transposta\n",
    "at = np.transpose(a)\n",
    "print(at)"
   ]
  },
  {
   "cell_type": "code",
   "execution_count": 20,
   "metadata": {},
   "outputs": [
    {
     "data": {
      "text/plain": [
       "array([[1, 4, 7],\n",
       "       [2, 5, 8],\n",
       "       [3, 6, 9]])"
      ]
     },
     "execution_count": 20,
     "metadata": {},
     "output_type": "execute_result"
    }
   ],
   "source": [
    "# Outra forma de obter a matriz transposta\n",
    "a.T"
   ]
  },
  {
   "cell_type": "markdown",
   "metadata": {},
   "source": [
    "## Matriz Inversa\n",
    "A matriz inversa é uma matriz que é obtida a partir de uma matriz quadrada A, tal que o produto entre A e sua inversa resulta na matriz identidade. A inversa de uma matriz A é denotada por: $$ A^{-1} $$\n",
    "Para calcular a matriz inversa de uma matriz A, é necessário que o determinte de A seja diferente de zero.\n",
    "\n",
    "\n",
    "A matriz inversa tem algumas propriedades interessantes, como:\n",
    "\n",
    "- A inversa de uma matriz é igual a matriz original: \n",
    "$$ (A^{-1})^{-1} = A $$\n",
    "\n",
    "- A inversa da matriz identidade é igual a matriz identidade:\n",
    "$$ I^{-1} = I $$\n",
    "\n",
    "- A inversa da soma de duas matrizes é igual à soma das inversas de cada matriz:\n",
    "\n",
    "$$ (A+B^{-1}) = A^{-1} + B^{-1}$$\n",
    "\n",
    "- A multiplicação da matriz original pela matriz inversa gera a matriz identidade\n",
    "$$ A * (A^{-1}) = I$$"
   ]
  },
  {
   "cell_type": "code",
   "execution_count": 30,
   "metadata": {},
   "outputs": [
    {
     "data": {
      "text/plain": [
       "array([[ 1,  1, -3],\n",
       "       [ 2,  1,  3],\n",
       "       [ 2,  0, -1]])"
      ]
     },
     "execution_count": 30,
     "metadata": {},
     "output_type": "execute_result"
    }
   ],
   "source": [
    "a = np.array([[1,1,-3],[2,1,3],[2,0,-1]]) # Matriz,\n",
    "a\n"
   ]
  },
  {
   "cell_type": "code",
   "execution_count": 33,
   "metadata": {},
   "outputs": [
    {
     "data": {
      "text/plain": [
       "13.0"
      ]
     },
     "execution_count": 33,
     "metadata": {},
     "output_type": "execute_result"
    }
   ],
   "source": [
    "# Para a matriz A ter matriz inversa:\n",
    "# Matriz original tem que ser quadrada: 3x3\n",
    "# Determinante tem que ser diferente de zero\n",
    "\n",
    "# Cálculo do determinante\n",
    "np.linalg.det(a) # det(A) = 13, ou seja, diferente de zero ->> matriz A tem inversa"
   ]
  },
  {
   "cell_type": "code",
   "execution_count": 36,
   "metadata": {},
   "outputs": [
    {
     "name": "stdout",
     "output_type": "stream",
     "text": [
      "[[-0.07692308  0.07692308  0.46153846]\n",
      " [ 0.61538462  0.38461538 -0.69230769]\n",
      " [-0.15384615  0.15384615 -0.07692308]]\n"
     ]
    }
   ],
   "source": [
    "# Calculando a inversa da Matriz A\n",
    "a_inve = np.linalg.inv(a)\n",
    "print(a_inve)\n"
   ]
  },
  {
   "cell_type": "code",
   "execution_count": 39,
   "metadata": {},
   "outputs": [
    {
     "name": "stdout",
     "output_type": "stream",
     "text": [
      "[[ 1.00000000e+00 -5.55111512e-17  5.55111512e-17]\n",
      " [ 0.00000000e+00  1.00000000e+00  5.55111512e-17]\n",
      " [ 0.00000000e+00  0.00000000e+00  1.00000000e+00]]\n"
     ]
    }
   ],
   "source": [
    "# Identidade\n",
    "\n",
    "id = np.dot(a, a_inve) # A multiplicação resulta a matriz identidade\n",
    "print(id)"
   ]
  },
  {
   "cell_type": "markdown",
   "metadata": {},
   "source": [
    "## Matriz Identidade\n",
    "\n",
    "A matriz identidade é uma matriz quadrada em que os elementos da diagonal principal são iguais a 1 e os demais elementos são iguais a 0. A matriz identidade é considerada o elemento neutro da multiplicação de matrizes, ou seja, se multiplicarmos uma matriz M pela identidade, encontramos como resultado a própria matriz M. A representação matemática da matriz identidade de ordem n é:\n",
    "$$ \\mathbf{I}_{n} $$\n",
    "\n",
    "A matriz identidade possui algumas propriedades interesssantes, como:\n",
    "\n",
    "- O produto entra uma matriz quadrada A e sua matriz identidade correspondente é igual à própria matriz A:\n",
    "$$ A * {I}_{n} = I_{n} * A = A $$\n",
    "\n",
    "- O produto entre uma matriz quadrada A e sua matriz inversa correspondente é igual a matriz identidade\n",
    "$$ A * A^{-1} = A^{-1} * A = I_{n}$$\n",
    "\n",
    "- A matriz identidade é única para cada ordem n.\n",
    "\n",
    "- Matriz identidade de ordem 2:\n",
    "$$\\mathbf{I}_{2} = \\begin{pmatrix}\n",
    "1 & 0 \\\\\n",
    "0 & 1  \n",
    "\\end{pmatrix}$$\n",
    "\n",
    "- Matriz identidade de odem 3:\n",
    "$$\\mathbf{I}_{3} = \\begin{pmatrix}\n",
    "1 & 0 & 0 \\\\\n",
    "0 & 1 & 0 \\\\\n",
    "0 & 0 & 1\n",
    "\\end{pmatrix}$$"
   ]
  },
  {
   "cell_type": "code",
   "execution_count": 43,
   "metadata": {},
   "outputs": [
    {
     "data": {
      "text/plain": [
       "array([[1., 0., 0.],\n",
       "       [0., 1., 0.],\n",
       "       [0., 0., 1.]])"
      ]
     },
     "execution_count": 43,
     "metadata": {},
     "output_type": "execute_result"
    }
   ],
   "source": [
    "# Criando a matriz identidade\n",
    "i = np.identity(3)\n",
    "i"
   ]
  },
  {
   "cell_type": "code",
   "execution_count": 44,
   "metadata": {},
   "outputs": [
    {
     "data": {
      "text/plain": [
       "array([[1., 0., 0., 0., 0., 0., 0., 0., 0., 0.],\n",
       "       [0., 1., 0., 0., 0., 0., 0., 0., 0., 0.],\n",
       "       [0., 0., 1., 0., 0., 0., 0., 0., 0., 0.],\n",
       "       [0., 0., 0., 1., 0., 0., 0., 0., 0., 0.],\n",
       "       [0., 0., 0., 0., 1., 0., 0., 0., 0., 0.],\n",
       "       [0., 0., 0., 0., 0., 1., 0., 0., 0., 0.],\n",
       "       [0., 0., 0., 0., 0., 0., 1., 0., 0., 0.],\n",
       "       [0., 0., 0., 0., 0., 0., 0., 1., 0., 0.],\n",
       "       [0., 0., 0., 0., 0., 0., 0., 0., 1., 0.],\n",
       "       [0., 0., 0., 0., 0., 0., 0., 0., 0., 1.]])"
      ]
     },
     "execution_count": 44,
     "metadata": {},
     "output_type": "execute_result"
    }
   ],
   "source": [
    "# Criando a matriz identidade\n",
    "np.eye(10)"
   ]
  },
  {
   "cell_type": "markdown",
   "metadata": {},
   "source": [
    "## Determinantes\n",
    "\n",
    "A motivação da criação dos determinantes em matemática foi para resolver problemas relacionados aos sistemas de equações lineares, ou simplesmente, sistemas lineares. Posteriormente foram definidos matematicamente para o estudo teórico dos mesmos.\n",
    "\n",
    "O determinante de uma matriz quadrada é o número que pode ser obtido por meio de diversos métodos, dependendo da ordem da matriz, Para matrizes de ordem 1, o determinante é simplesmente o únido elemento da matriz. Para matrizes de ordem 2, o determinante é a diferença entre o produto dos elementos da diagonal principal e o produto dos elementos da diagonal secundária. Para matrizes de ordem 3 ou superior, existem diversas técnicas para calcular o determinante, como a regra de Sarrus o método de Laplace, entre outros.\n",
    "\n",
    "O determinante de uma matriz quadrada A é um número real que pode obter vários significados dependendo do contexto. Seu cálculo passa por processos específicos. O determinante de uma matriz possui várias aplicações atualmente. Utilizamos o determinante para verificar se três pontos estão alinhados no plano cartesiano, para calcular áreas de triângulos, para resolução de sistemas lineares, entre outras aplicações na matemática. O estudo de determinantes não se limita à matemática, há algumas aplicações na física, como estudo de campos elétricos. Calculamos determinantes somente de matrizes quadradas, ou seja, matrizes em que a quantidade de colunas e a quantidade de linhas são iguais. Para calcular o determinante de uma matriz, precisamos analisar a ordem dela, ou seja, se ela é 1x1, 2x2, 3x3 e assim sucessivament, quanto maior sua ordem, mais difícil será encontrar o determinante. No entanto, há métodos importantes para realizar-se o exercício, como a regra de Sarrus, utilizada para calcular-se determinantes de matrizes 3x3.\n",
    "\n",
    "Aqui estão alguns exemplos de determinantes:\n",
    "\n",
    "- Determinante de uma matriz 1x1:\n",
    "$$ a_{1} $$"
   ]
  },
  {
   "cell_type": "code",
   "execution_count": 47,
   "metadata": {},
   "outputs": [],
   "source": [
    "matriz = np.array([[1,2,-3],[2,1,3],[2,0,-1]])"
   ]
  },
  {
   "cell_type": "code",
   "execution_count": 49,
   "metadata": {},
   "outputs": [
    {
     "data": {
      "text/plain": [
       "array([[ 1,  2, -3],\n",
       "       [ 2,  1,  3],\n",
       "       [ 2,  0, -1]])"
      ]
     },
     "execution_count": 49,
     "metadata": {},
     "output_type": "execute_result"
    }
   ],
   "source": [
    "matriz"
   ]
  },
  {
   "cell_type": "code",
   "execution_count": 51,
   "metadata": {},
   "outputs": [
    {
     "data": {
      "text/plain": [
       "20.99999999999999"
      ]
     },
     "execution_count": 51,
     "metadata": {},
     "output_type": "execute_result"
    }
   ],
   "source": [
    "det = np.linalg.det(matriz)\n",
    "det"
   ]
  },
  {
   "cell_type": "code",
   "execution_count": 55,
   "metadata": {},
   "outputs": [
    {
     "data": {
      "text/plain": [
       "array([[5, 3, 8, 8],\n",
       "       [8, 9, 4, 3],\n",
       "       [8, 6, 5, 4],\n",
       "       [5, 7, 4, 6]])"
      ]
     },
     "execution_count": 55,
     "metadata": {},
     "output_type": "execute_result"
    }
   ],
   "source": [
    "# Gerando uma matriz aleatória \n",
    "A = np.random.randint(0,10, size=(4,4))\n",
    "A\n"
   ]
  },
  {
   "cell_type": "code",
   "execution_count": 57,
   "metadata": {},
   "outputs": [
    {
     "data": {
      "text/plain": [
       "-261.99999999999994"
      ]
     },
     "execution_count": 57,
     "metadata": {},
     "output_type": "execute_result"
    }
   ],
   "source": [
    "detA = np.linalg.det(A)\n",
    "detA"
   ]
  },
  {
   "cell_type": "code",
   "execution_count": 60,
   "metadata": {},
   "outputs": [
    {
     "ename": "LinAlgError",
     "evalue": "Last 2 dimensions of the array must be square",
     "output_type": "error",
     "traceback": [
      "\u001b[1;31m---------------------------------------------------------------------------\u001b[0m",
      "\u001b[1;31mLinAlgError\u001b[0m                               Traceback (most recent call last)",
      "Cell \u001b[1;32mIn[60], line 4\u001b[0m\n\u001b[0;32m      1\u001b[0m \u001b[38;5;66;03m# Não se calcula o determinante de uma matriz que não é quadrada\u001b[39;00m\n\u001b[0;32m      2\u001b[0m \u001b[38;5;66;03m# (ou seja, que tem o número de linhas diferentes de colunas)\u001b[39;00m\n\u001b[0;32m      3\u001b[0m B \u001b[38;5;241m=\u001b[39m np\u001b[38;5;241m.\u001b[39mrandom\u001b[38;5;241m.\u001b[39mrandint(\u001b[38;5;241m0\u001b[39m,\u001b[38;5;241m10\u001b[39m, size\u001b[38;5;241m=\u001b[39m(\u001b[38;5;241m3\u001b[39m,\u001b[38;5;241m4\u001b[39m))\n\u001b[1;32m----> 4\u001b[0m detB \u001b[38;5;241m=\u001b[39m np\u001b[38;5;241m.\u001b[39mlinalg\u001b[38;5;241m.\u001b[39mdet(B)\n",
      "File \u001b[1;32m<__array_function__ internals>:200\u001b[0m, in \u001b[0;36mdet\u001b[1;34m(*args, **kwargs)\u001b[0m\n",
      "File \u001b[1;32mc:\\Users\\Matheus\\anaconda3\\Lib\\site-packages\\numpy\\linalg\\linalg.py:2136\u001b[0m, in \u001b[0;36mdet\u001b[1;34m(a)\u001b[0m\n\u001b[0;32m   2134\u001b[0m a \u001b[38;5;241m=\u001b[39m asarray(a)\n\u001b[0;32m   2135\u001b[0m _assert_stacked_2d(a)\n\u001b[1;32m-> 2136\u001b[0m _assert_stacked_square(a)\n\u001b[0;32m   2137\u001b[0m t, result_t \u001b[38;5;241m=\u001b[39m _commonType(a)\n\u001b[0;32m   2138\u001b[0m signature \u001b[38;5;241m=\u001b[39m \u001b[38;5;124m'\u001b[39m\u001b[38;5;124mD->D\u001b[39m\u001b[38;5;124m'\u001b[39m \u001b[38;5;28;01mif\u001b[39;00m isComplexType(t) \u001b[38;5;28;01melse\u001b[39;00m \u001b[38;5;124m'\u001b[39m\u001b[38;5;124md->d\u001b[39m\u001b[38;5;124m'\u001b[39m\n",
      "File \u001b[1;32mc:\\Users\\Matheus\\anaconda3\\Lib\\site-packages\\numpy\\linalg\\linalg.py:190\u001b[0m, in \u001b[0;36m_assert_stacked_square\u001b[1;34m(*arrays)\u001b[0m\n\u001b[0;32m    188\u001b[0m m, n \u001b[38;5;241m=\u001b[39m a\u001b[38;5;241m.\u001b[39mshape[\u001b[38;5;241m-\u001b[39m\u001b[38;5;241m2\u001b[39m:]\n\u001b[0;32m    189\u001b[0m \u001b[38;5;28;01mif\u001b[39;00m m \u001b[38;5;241m!=\u001b[39m n:\n\u001b[1;32m--> 190\u001b[0m     \u001b[38;5;28;01mraise\u001b[39;00m LinAlgError(\u001b[38;5;124m'\u001b[39m\u001b[38;5;124mLast 2 dimensions of the array must be square\u001b[39m\u001b[38;5;124m'\u001b[39m)\n",
      "\u001b[1;31mLinAlgError\u001b[0m: Last 2 dimensions of the array must be square"
     ]
    }
   ],
   "source": [
    "# Não se calcula o determinante de uma matriz que não é quadrada\n",
    "# (ou seja, que tem o número de linhas diferentes de colunas)\n",
    "B = np.random.randint(0,10, size=(3,4))\n",
    "detB = np.linalg.det(B)"
   ]
  },
  {
   "cell_type": "markdown",
   "metadata": {},
   "source": [
    "## Sistemas Lineares\n",
    "Sistemas lineares são conjuntos de equações lineares qye envolvem várias variáveis, juntamente com a tarefa de encontra valores para essas variáveis que satisfaçam todas as equações simultaneamente. Eles podem ser resovidos por meio de diferentes métodos, como método da adição, igualdade e substituição para sistemas que possuem duas equações e duas incógnitas, é a regra de Crammer e o escalonamento, que resolvem sistemas lineares de duas equações, mas que são mais convenientes para sistemas com mais equações. Um sistema linear é um conjunto de duas ou mais equações como uma ou mais incógnitas.\n",
    "\n",
    "Por exemplo, um sistema linear com duas equações e duas incógnitas pode ser representado da seguinte forma:\n",
    "\n",
    "\\begin{align}\n",
    "a_{11}x + a_{12}y &= b_1 \\\\\n",
    "a_{21}x + a_{22}y &= b_2\n",
    "\\end{align}\n",
    "\n",
    "Onde a11, a12, a21 e a22 são os coeficientes das variáveis x1 e x2 e b1 e b2 são os termos independentes. O objetivo é encontrar valores para x1 e x2 que satisfaçam as equeações simultaneamente\n",
    "\n",
    "Um sistema linear o m equações pode ser representado da seguinte forma:\n",
    "\n",
    "\n",
    "\\begin{align}\n",
    "a_{11}x_1 + a_{12}x_2 + \\cdots + a_{1n}x_n &= b_1 \\\\\n",
    "a_{21}x_1 + a_{22}x_2 + \\cdots + a_{2n}x_n &= b_2 \\\\\n",
    "&\\vdots \\\\\n",
    "a_{n1}x_1 + a_{n2}x_2 + \\cdots + a_{nn}x_n &= b_n\n",
    "\\end{align}\n",
    "\n",
    "Onde aij são os coeficientes das variáveis xi, b, são os termos independentes e xi são as incógnitas. O objetivo é encontrar valores para x1, x2, ....., xn que satisfaçam todas as equações simultaneamente.\n",
    "\n",
    "A forma matricial de um sistema linear é uma representação matemática que utiliza matrizes para simplificar a resolução de sistemas de equações lineares. Para transformar um sistema linear em sua forma matricial, basta escrever os coeficientes das variáveis em uma matriz e os termos independentes em outra matriz. Por exemplo, o sistema linear: \n",
    "\n",
    "\\begin{align}\n",
    "2_{x} + 3_{y} &= 7 \\\\\n",
    "4_{x} + 5_{y} &= -3\n",
    "\\end{align}\n",
    "\n",
    "Pode ser escrito na forma matricial como:\n",
    "\n",
    "$$\n",
    "\\begin{pmatrix}\n",
    "2 & 3 \\\\\n",
    "4 & 5\n",
    "\\end{pmatrix}\n",
    "\\begin{pmatrix}\n",
    "x \\\\\n",
    "y\n",
    "\\end{pmatrix}\n",
    "=\n",
    "\\begin{pmatrix}\n",
    "7 \\\\\n",
    "-3\n",
    "\\end{pmatrix}\n",
    "$$\n",
    "\n",
    "Onde a matriz dos coeficientes é chamada de matriz dos coeficientes, a matriz das variáveis é chamada de matriz das variáveis e matriz dos termos independentes é chamada de matriz dos termos independentes. A solução do sistema pode ser encontrada por meio da inversão da matriz dos coeficientes e da multiplicação da matriz inversa pela matriz dos termos independentes.\n",
    "\n",
    "Veja:\n",
    "\n",
    "$$ A_{x} =b $$\n",
    "$$ A^{-1} * A_{x} = A^{-1}*b$$\n",
    "\n",
    "Como:\n",
    "\n",
    "$$A^{-1}*A = 1$$\n",
    "$$x = A^{-1}*b$$"
   ]
  },
  {
   "cell_type": "code",
   "execution_count": 61,
   "metadata": {},
   "outputs": [],
   "source": [
    "A = np.array([[1,2,3], [2,3,3], [1,2,0]])\n",
    "B = np.array([1,-3,6])"
   ]
  },
  {
   "cell_type": "code",
   "execution_count": 62,
   "metadata": {},
   "outputs": [
    {
     "data": {
      "text/plain": [
       "array([[1, 2, 3],\n",
       "       [2, 3, 3],\n",
       "       [1, 2, 0]])"
      ]
     },
     "execution_count": 62,
     "metadata": {},
     "output_type": "execute_result"
    }
   ],
   "source": [
    "A"
   ]
  },
  {
   "cell_type": "code",
   "execution_count": 63,
   "metadata": {},
   "outputs": [
    {
     "data": {
      "text/plain": [
       "array([ 1, -3,  6])"
      ]
     },
     "execution_count": 63,
     "metadata": {},
     "output_type": "execute_result"
    }
   ],
   "source": [
    "B"
   ]
  },
  {
   "cell_type": "markdown",
   "metadata": {},
   "source": [
    "Ax = b\n",
    "\n",
    "x = A_inv * B"
   ]
  },
  {
   "cell_type": "code",
   "execution_count": 64,
   "metadata": {},
   "outputs": [
    {
     "data": {
      "text/plain": [
       "array([[-2.        ,  2.        , -1.        ],\n",
       "       [ 1.        , -1.        ,  1.        ],\n",
       "       [ 0.33333333, -0.        , -0.33333333]])"
      ]
     },
     "execution_count": 64,
     "metadata": {},
     "output_type": "execute_result"
    }
   ],
   "source": [
    "A_inv = np.linalg.inv(A)\n",
    "A_inv"
   ]
  },
  {
   "cell_type": "code",
   "execution_count": 72,
   "metadata": {},
   "outputs": [
    {
     "name": "stdout",
     "output_type": "stream",
     "text": [
      "A solução usando o método tradicional é:\n",
      "[-14.          10.          -1.66666667]\n"
     ]
    }
   ],
   "source": [
    "x = np.dot(A_inv, B)\n",
    "print(f'A solução usando o método tradicional é:\\n{x}')"
   ]
  },
  {
   "cell_type": "markdown",
   "metadata": {},
   "source": [
    "## Resumo\n",
    "- 1° Definimos a matriz A e o Vetor B\n",
    "- 2° Calculamos inversa de A\n",
    "- 3° Resolvendo o sistema de equação pela propriedade da matriz inversa"
   ]
  },
  {
   "cell_type": "markdown",
   "metadata": {},
   "source": [
    "### Usando o Solve\n"
   ]
  },
  {
   "cell_type": "code",
   "execution_count": 76,
   "metadata": {},
   "outputs": [
    {
     "name": "stdout",
     "output_type": "stream",
     "text": [
      "A solução pelo solve é:\n",
      "`[-14.          10.          -1.66666667]\n"
     ]
    }
   ],
   "source": [
    "# a função solve já calculado o resultado direto sem a necessidade de calcular a matriz inversa\n",
    "x = np.linalg.solve(A,B)\n",
    "print(f'A solução pelo solve é:\\n`{x}')\n"
   ]
  },
  {
   "cell_type": "code",
   "execution_count": null,
   "metadata": {},
   "outputs": [],
   "source": []
  }
 ],
 "metadata": {
  "kernelspec": {
   "display_name": "base",
   "language": "python",
   "name": "python3"
  },
  "language_info": {
   "codemirror_mode": {
    "name": "ipython",
    "version": 3
   },
   "file_extension": ".py",
   "mimetype": "text/x-python",
   "name": "python",
   "nbconvert_exporter": "python",
   "pygments_lexer": "ipython3",
   "version": "3.11.4"
  }
 },
 "nbformat": 4,
 "nbformat_minor": 2
}
