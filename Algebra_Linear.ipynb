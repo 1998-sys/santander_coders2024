{
 "cells": [
  {
   "cell_type": "markdown",
   "metadata": {},
   "source": [
    "## Álgebra linear\n",
    "\n",
    "A álgebra linear é um ramo da matemática que estuda os coneceitos e a propriedades de estruturas abstratas chamadas espaços vetoriais, matrizes, transformações lineares, sistemas de equações lineares e determinantes. A álgebra linear tem aplicações em diversas áreas do conhecimento, como física, computação, engenharia, economia e ciência de dados. A álgebra linear também fornece ferramentas para o estudo de geometria analítica, análise funcional, equação diferenciais e otimização."
   ]
  },
  {
   "cell_type": "markdown",
   "metadata": {},
   "source": [
    "<img src=\"https://github.com/1998-sys/santander_coders2024/raw/79da18a7953620b131d098537dd825c66346f71e/LimeWire%20AI%20Studio%20Asset.jpg\" alt=\"Imagem\">"
   ]
  },
  {
   "cell_type": "code",
   "execution_count": 1,
   "metadata": {},
   "outputs": [],
   "source": [
    "matriz_a = [[1,2,3],[4,5,6]]"
   ]
  },
  {
   "cell_type": "code",
   "execution_count": 2,
   "metadata": {},
   "outputs": [
    {
     "data": {
      "text/plain": [
       "[[1, 2, 3], [4, 5, 6]]"
      ]
     },
     "execution_count": 2,
     "metadata": {},
     "output_type": "execute_result"
    }
   ],
   "source": [
    "matriz_a"
   ]
  },
  {
   "cell_type": "code",
   "execution_count": 3,
   "metadata": {},
   "outputs": [
    {
     "data": {
      "text/plain": [
       "[1, 2, 3]"
      ]
     },
     "execution_count": 3,
     "metadata": {},
     "output_type": "execute_result"
    }
   ],
   "source": [
    "matriz_a[0] # Acessando a primeira linha "
   ]
  },
  {
   "cell_type": "code",
   "execution_count": 4,
   "metadata": {},
   "outputs": [
    {
     "data": {
      "text/plain": [
       "[4, 5, 6]"
      ]
     },
     "execution_count": 4,
     "metadata": {},
     "output_type": "execute_result"
    }
   ],
   "source": [
    "matriz_a[1] # Acessando a segunda linha \n"
   ]
  },
  {
   "cell_type": "code",
   "execution_count": 5,
   "metadata": {},
   "outputs": [
    {
     "data": {
      "text/plain": [
       "2"
      ]
     },
     "execution_count": 5,
     "metadata": {},
     "output_type": "execute_result"
    }
   ],
   "source": [
    "matriz_a[0][1] #elemento da primeira linha e segunda coluna"
   ]
  },
  {
   "cell_type": "markdown",
   "metadata": {},
   "source": [
    "Usar listas aninhadas como matriz funciona para tarefas computacionais simples, no entanto, exite uma maneira melhor de trabalhar com matrizes em python usando o pacote Numpy\n",
    "\n",
    "### Numpy Array: Numpy\n",
    "Numpy é um pacote para computação científica que fornece uma ampla gama de  funções e métodos para trabalhar com matrizes multidimensionais"
   ]
  },
  {
   "cell_type": "code",
   "execution_count": 6,
   "metadata": {},
   "outputs": [
    {
     "data": {
      "text/plain": [
       "array([[1, 2, 3],\n",
       "       [4, 5, 6],\n",
       "       [7, 8, 9]])"
      ]
     },
     "execution_count": 6,
     "metadata": {},
     "output_type": "execute_result"
    }
   ],
   "source": [
    "import numpy as np \n",
    "\n",
    "matriz_b = np.array([[1,2,3], [4,5,6], [7,8,9]])\n",
    "\n",
    "matriz_b"
   ]
  },
  {
   "cell_type": "code",
   "execution_count": 7,
   "metadata": {},
   "outputs": [
    {
     "data": {
      "text/plain": [
       "3"
      ]
     },
     "execution_count": 7,
     "metadata": {},
     "output_type": "execute_result"
    }
   ],
   "source": [
    "# Acessando a matriz \n",
    "matriz_b[0][2] # Acessando primeira linha 3° coluna"
   ]
  },
  {
   "cell_type": "markdown",
   "metadata": {},
   "source": [
    "Algumas operações que podemos realizar em matrizes usando o Numpy \n",
    "\n",
    "- Transposiçaõ de matriz\n",
    "\n",
    "A transposição de uma matriz é uma operação que troca as linhas e colunas da matriz. Por exemplo, se tivermos uma matriz A com a dimensão m x n, a transposta de A é uma matriz B com dimensão nxm, onde o elemento na linha i e colna j de B é o elemento na linha j e coluna i de A"
   ]
  },
  {
   "cell_type": "code",
   "execution_count": 8,
   "metadata": {},
   "outputs": [
    {
     "data": {
      "text/plain": [
       "array([[1, 4, 7],\n",
       "       [2, 5, 8],\n",
       "       [3, 6, 9]])"
      ]
     },
     "execution_count": 8,
     "metadata": {},
     "output_type": "execute_result"
    }
   ],
   "source": [
    "matriz_b.transpose()"
   ]
  },
  {
   "cell_type": "markdown",
   "metadata": {},
   "source": [
    "- Adição de matrizes\n",
    "\n",
    "A adição e subtração de matrizes são realizadas elemento por elemento. Para que duas matrizes possam ser adicionadas ou subtraídas, elas devem ter a mesma dimensão. Por exemplo, se tivermos duas matrizes A e B, ambas com dimensão mxn, a soma de A e B é uma matriz C, onde cada elemento de C é a soma dos elementos correspondentes de A e B"
   ]
  },
  {
   "cell_type": "code",
   "execution_count": 9,
   "metadata": {},
   "outputs": [
    {
     "name": "stdout",
     "output_type": "stream",
     "text": [
      "[[10 10 10]\n",
      " [10 10 10]\n",
      " [10 10 10]]\n"
     ]
    }
   ],
   "source": [
    "matriz_1 = np.array([[1,2,3],[4,5,6],[7,8,9]])\n",
    "matriz_2 = np.array([[9,8,7],[6,5,4],[3,2,1]])\n",
    "\n",
    "soma = matriz_1 + matriz_2\n",
    "print(soma)"
   ]
  },
  {
   "cell_type": "markdown",
   "metadata": {},
   "source": [
    "- Subtração de Matrizes"
   ]
  },
  {
   "cell_type": "code",
   "execution_count": 10,
   "metadata": {},
   "outputs": [
    {
     "data": {
      "text/plain": [
       "array([[-8, -6, -4],\n",
       "       [-2,  0,  2],\n",
       "       [ 4,  6,  8]])"
      ]
     },
     "execution_count": 10,
     "metadata": {},
     "output_type": "execute_result"
    }
   ],
   "source": [
    "subtração = matriz_1 - matriz_2\n",
    "subtração"
   ]
  },
  {
   "cell_type": "markdown",
   "metadata": {},
   "source": [
    "- Multiplicação de Matrizes\n",
    "\n",
    "A multiplicação de matrizes é um pouco mais complexa. A multiplicação de duas matrizes A e B é definida apenas se o número de colunas de A for igual ao número de linhas de B. O resultado da multiplicação é uma matriz C, onde o elemento na linha i e coluna j é o produto escalar da linha i de A e da coluna j de B\n",
    "\n",
    "O número de colunas da primeira matriz deve ser igual ao número de linhas da segunda matriz \n"
   ]
  },
  {
   "cell_type": "code",
   "execution_count": 11,
   "metadata": {},
   "outputs": [
    {
     "name": "stdout",
     "output_type": "stream",
     "text": [
      "[[1 2]\n",
      " [3 4]\n",
      " [5 6]]\n",
      "[[7]\n",
      " [8]]\n"
     ]
    },
    {
     "data": {
      "text/plain": [
       "array([[23],\n",
       "       [53],\n",
       "       [83]])"
      ]
     },
     "execution_count": 11,
     "metadata": {},
     "output_type": "execute_result"
    }
   ],
   "source": [
    "matriz3 = np.array([[1,2], [3,4], [5,6]])\n",
    "matriz4 = np.array([[7], [8]])\n",
    "\n",
    "print(matriz3)\n",
    "print(matriz4)\n",
    "\n",
    "matrizmult = np.dot(matriz3, matriz4) #Comando para realizar multiplicação de matrizes\n",
    "matrizmult"
   ]
  },
  {
   "cell_type": "markdown",
   "metadata": {},
   "source": [
    "- Divisão de matrizes\n",
    "\n",
    "Tecnicamente, a divisão de matrizes não existe. Em vez disso, é necessário multiplicar uma matriz pelo inverso da outra. Por exemplo, se tibermos duas matrizes A e B, a divisão de A por B seria escrita como A*B^-1. Para calcular a divisão de matrizes, a matriz b deve ser quadrada e seu determinante deve ser diferente de zero. Caso contráriom a divisão não é possível.\n"
   ]
  },
  {
   "cell_type": "markdown",
   "metadata": {},
   "source": [
    "## Matriz Transposta\n",
    "\n",
    "A matriz trasposta é uma matriz que se obtém ao trocar as linhas pelas colunas de uma matriz. A representação matemática da matriz transposta de uma matriz A é:\n",
    "$$ A^\\top $$\n"
   ]
  },
  {
   "cell_type": "code",
   "execution_count": 15,
   "metadata": {},
   "outputs": [
    {
     "name": "stdout",
     "output_type": "stream",
     "text": [
      "[[1 2 3]\n",
      " [4 5 6]\n",
      " [7 8 9]]\n"
     ]
    }
   ],
   "source": [
    "a = np.array([[1,2,3],[4,5,6],[7,8,9]])\n",
    "print(a)"
   ]
  },
  {
   "cell_type": "code",
   "execution_count": 18,
   "metadata": {},
   "outputs": [
    {
     "name": "stdout",
     "output_type": "stream",
     "text": [
      "[[1 4 7]\n",
      " [2 5 8]\n",
      " [3 6 9]]\n"
     ]
    }
   ],
   "source": [
    "# Matriz transposta\n",
    "at = np.transpose(a)\n",
    "print(at)"
   ]
  },
  {
   "cell_type": "code",
   "execution_count": 20,
   "metadata": {},
   "outputs": [
    {
     "data": {
      "text/plain": [
       "array([[1, 4, 7],\n",
       "       [2, 5, 8],\n",
       "       [3, 6, 9]])"
      ]
     },
     "execution_count": 20,
     "metadata": {},
     "output_type": "execute_result"
    }
   ],
   "source": [
    "# Outra forma de obter a matriz transposta\n",
    "a.T"
   ]
  },
  {
   "cell_type": "markdown",
   "metadata": {},
   "source": [
    "## Matriz Inversa\n",
    "A matriz inversa é uma matriz que é obtida a partir de uma matriz quadrada A, tal que o produto entre A e sua inversa resulta na matriz identidade. A inversa de uma matriz A é denotada por: $$ A^{-1} $$\n",
    "Para calcular a matriz inversa de uma matriz A, é necessário que o determinte de A seja diferente de zero.\n",
    "\n",
    "\n",
    "A matriz inversa tem algumas propriedades interessantes, como:\n",
    "\n",
    "- A inversa de uma matriz é igual a matriz original: \n",
    "$$ (A^{-1})^{-1} = A $$\n",
    "\n",
    "- A inversa da matriz identidade é igual a matriz identidade:\n",
    "$$ I^{-1} = I $$\n",
    "\n",
    "- A inversa da soma de duas matrizes é igual à soma das inversas de cada matriz:\n",
    "\n",
    "$$ (A+B^{-1}) = A^{-1} + B^{-1}$$\n",
    "\n",
    "- A multiplicação da matriz original pela matriz inversa gera a matriz identidade\n",
    "$$ A * (A^{-1}) = I$$"
   ]
  },
  {
   "cell_type": "code",
   "execution_count": 30,
   "metadata": {},
   "outputs": [
    {
     "data": {
      "text/plain": [
       "array([[ 1,  1, -3],\n",
       "       [ 2,  1,  3],\n",
       "       [ 2,  0, -1]])"
      ]
     },
     "execution_count": 30,
     "metadata": {},
     "output_type": "execute_result"
    }
   ],
   "source": [
    "a = np.array([[1,1,-3],[2,1,3],[2,0,-1]]) # Matriz,\n",
    "a\n"
   ]
  },
  {
   "cell_type": "code",
   "execution_count": 33,
   "metadata": {},
   "outputs": [
    {
     "data": {
      "text/plain": [
       "13.0"
      ]
     },
     "execution_count": 33,
     "metadata": {},
     "output_type": "execute_result"
    }
   ],
   "source": [
    "# Para a matriz A ter matriz inversa:\n",
    "# Matriz original tem que ser quadrada: 3x3\n",
    "# Determinante tem que ser diferente de zero\n",
    "\n",
    "# Cálculo do determinante\n",
    "np.linalg.det(a) # det(A) = 13, ou seja, diferente de zero ->> matriz A tem inversa"
   ]
  },
  {
   "cell_type": "code",
   "execution_count": 36,
   "metadata": {},
   "outputs": [
    {
     "name": "stdout",
     "output_type": "stream",
     "text": [
      "[[-0.07692308  0.07692308  0.46153846]\n",
      " [ 0.61538462  0.38461538 -0.69230769]\n",
      " [-0.15384615  0.15384615 -0.07692308]]\n"
     ]
    }
   ],
   "source": [
    "# Calculando a inversa da Matriz A\n",
    "a_inve = np.linalg.inv(a)\n",
    "print(a_inve)\n"
   ]
  },
  {
   "cell_type": "code",
   "execution_count": 39,
   "metadata": {},
   "outputs": [
    {
     "name": "stdout",
     "output_type": "stream",
     "text": [
      "[[ 1.00000000e+00 -5.55111512e-17  5.55111512e-17]\n",
      " [ 0.00000000e+00  1.00000000e+00  5.55111512e-17]\n",
      " [ 0.00000000e+00  0.00000000e+00  1.00000000e+00]]\n"
     ]
    }
   ],
   "source": [
    "# Identidade\n",
    "\n",
    "id = np.dot(a, a_inve) # A multiplicação resulta a matriz identidade\n",
    "print(id)"
   ]
  },
  {
   "cell_type": "code",
   "execution_count": null,
   "metadata": {},
   "outputs": [],
   "source": []
  }
 ],
 "metadata": {
  "kernelspec": {
   "display_name": "base",
   "language": "python",
   "name": "python3"
  },
  "language_info": {
   "codemirror_mode": {
    "name": "ipython",
    "version": 3
   },
   "file_extension": ".py",
   "mimetype": "text/x-python",
   "name": "python",
   "nbconvert_exporter": "python",
   "pygments_lexer": "ipython3",
   "version": "3.11.4"
  }
 },
 "nbformat": 4,
 "nbformat_minor": 2
}
