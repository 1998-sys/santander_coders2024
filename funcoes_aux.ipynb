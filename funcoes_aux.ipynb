{
 "cells": [
  {
   "cell_type": "markdown",
   "metadata": {},
   "source": [
    "## Funções Auxiliares"
   ]
  },
  {
   "cell_type": "code",
   "execution_count": 1,
   "metadata": {},
   "outputs": [],
   "source": [
    "import time\n",
    "\n",
    "def valor_numerico(mensagem):\n",
    "    \"\"\"\n",
    "    Solicita que o usuário digite um valor e verifica se é numérico (inteiro ou ponto flutuante).\n",
    "    Continua solicitando até que um valor válido seja fornecido.\n",
    "\n",
    "    Parâmetros:\n",
    "    mensagem (str): A mensagem que será exibida ao solicitar a entrada do usuário.\n",
    "\n",
    "    Retorna:\n",
    "    float ou int: O valor numérico digitado pelo usuário.\n",
    "    \n",
    "    \"\"\"\n",
    "    while True:\n",
    "        numero = input(mensagem)\n",
    "        try:\n",
    "            numero = float(numero)\n",
    "            return numero\n",
    "            break\n",
    "\n",
    "        except:\n",
    "            print('Entrada Inválida digite um valor numérico')\n",
    "            time.sleep(3)\n"
   ]
  }
 ],
 "metadata": {
  "kernelspec": {
   "display_name": "base",
   "language": "python",
   "name": "python3"
  },
  "language_info": {
   "codemirror_mode": {
    "name": "ipython",
    "version": 3
   },
   "file_extension": ".py",
   "mimetype": "text/x-python",
   "name": "python",
   "nbconvert_exporter": "python",
   "pygments_lexer": "ipython3",
   "version": "3.11.4"
  }
 },
 "nbformat": 4,
 "nbformat_minor": 2
}
